{
 "cells": [
  {
   "cell_type": "markdown",
   "metadata": {},
   "source": [
    "Making a json database of all Sottoriva group stored files\n",
    "\n",
    "Import os library for looking through directories"
   ]
  },
  {
   "cell_type": "code",
   "execution_count": 6,
   "metadata": {},
   "outputs": [],
   "source": [
    "import os"
   ]
  },
  {
   "cell_type": "markdown",
   "metadata": {},
   "source": [
    "search folder"
   ]
  },
  {
   "cell_type": "code",
   "execution_count": null,
   "metadata": {},
   "outputs": [],
   "source": [
    "project_dir = '/Volumes/DATA/DMP/UCEC/EVGENMOD/TIER2/EXPERIMENTAL_EVOLUTION/2022.06.07_Oronzina_PDO_wgs/processed_data/PDO_11'\n",
    "for root, dirs, files in os.walk(project_dir, topdown=False):\n",
    "    for name in files:\n",
    "        print(os.path.join(root, name))\n",
    "    #for name in dirs:\n",
    "    #    print(os.path.join(root, name))"
   ]
  },
  {
   "cell_type": "markdown",
   "metadata": {},
   "source": [
    "My initial schema is something like this\n",
    "[\n",
    "    {\n",
    "        \"hyper project\": \"string\",\n",
    "        \"super project\": \"string\",\n",
    "        \"project\":       \"string\",\n",
    "        \"id\":            \"string\",\n",
    "        \"sub_id\":        \"string\",\n",
    "        \"file\":          \"string\",\n",
    "        \"type::          \"string\",\n",
    "        \"comment\":       \"string\"\n",
    "       }\n",
    "]\n",
    "example\n",
    "[\n",
    "    {\n",
    "        \"hyper project\" : \"EXPERIMENTAL EVOLUTION\",\n",
    "        \"super project\" : \"MAYA MISSONI VALENTINO\",\n",
    "        \"project\"       : \"MISSONI\",\n",
    "        \"id\"            : \"019\",\n",
    "        \"sub_id\"        : \"BL\",\n",
    "        \"file\"          : \"/groups/sottoriva/rawdata/missoni/019_BL.fastq.R1.fq.gz\",\n",
    "        \"filetype\"      : \"1 of paired fastq\"\n",
    "        \"comment\"       : \"control DNA from PBMCs\"\n",
    "    }\n",
    "]"
   ]
  }
 ],
 "metadata": {
  "kernelspec": {
   "display_name": "Python (jupyter_env)",
   "language": "python",
   "name": "jupyter_env"
  },
  "language_info": {
   "codemirror_mode": {
    "name": "ipython",
    "version": 3
   },
   "file_extension": ".py",
   "mimetype": "text/x-python",
   "name": "python",
   "nbconvert_exporter": "python",
   "pygments_lexer": "ipython3",
   "version": "3.10.4"
  },
  "orig_nbformat": 4,
  "vscode": {
   "interpreter": {
    "hash": "f78848a951c38bd2a96d3c234e53ddf4369af9aace7c6d3e143d5f3668cc960f"
   }
  }
 },
 "nbformat": 4,
 "nbformat_minor": 2
}
